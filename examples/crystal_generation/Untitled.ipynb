{
 "cells": [
  {
   "cell_type": "code",
   "execution_count": 1,
   "metadata": {
    "collapsed": true
   },
   "outputs": [],
   "source": [
    "%matplotlib notebook\n",
    "import numpy as np\n",
    "import crystaltools.crystal_generator as cg\n",
    "import crystaltools.crystal_visualizer as cv\n",
    "import matplotlib.pyplot as plt\n",
    "import matplotlib as mpl\n",
    "from mpl_toolkits.mplot3d import proj3d"
   ]
  },
  {
   "cell_type": "code",
   "execution_count": 4,
   "metadata": {
    "collapsed": false
   },
   "outputs": [
    {
     "name": "stdout",
     "output_type": "stream",
     "text": [
      "Getting neighbor distances (periodic): 100%\n",
      "\n"
     ]
    }
   ],
   "source": [
    "unit = cg.get_unit_cell('fcc primitive', 2.8)\n",
    "# unit = get_unit_cell('bcc cubic', 2.8)\n",
    "# unit = get_unit_cell('fcc cubic', 2.8)\n",
    "\n",
    "v1 = np.array([-1., 1., 0.])\n",
    "v2 = np.array([1., 1., 1.])\n",
    "\n",
    "# v1 = np.array([-1., 1., 0.])\n",
    "# v2 = np.array([0., 0., 1.])\n",
    "v3 = np.cross(v1, v2)\n",
    "\n",
    "v1 = np.array([1., 0., 0.])\n",
    "v2 = np.array([0., 1., 0.])\n",
    "v3 = np.cross(v1, v2)\n",
    "\n",
    "\n",
    "sc = unit.create_supercell(10, 10, 10, name='supercell')\n",
    "# sc = unit.create_supercell(4,4,4, name='supercell')\n",
    "newcell = unit.create_new_orientation(v1, v2, v3, name='new orientation')\n",
    "newcell.reorient()\n",
    "\n",
    "# Rmat = create_rotation_matrix(v1, v2)\n",
    "# newcell.rotate_crystal(Rmat)\n",
    "\n",
    "dist = sc.find_distance_peroidic()\n",
    "\n",
    "a0 = sc.scale\n",
    "ep = a0 * 1.e-5\n",
    "d0 = 0.\n",
    "d1 = a0*(1./np.sqrt(2.))\n",
    "d2 = a0\n",
    "\n",
    "idn1 = sc.get_neighbor_list(dmax=d1+ep, dmin=d0+ep)\n",
    "idn2 = sc.get_neighbor_list(dmax=d2+ep, dmin=d1+ep)\n",
    "\n",
    "rcar = sc.rcar\n"
   ]
  },
  {
   "cell_type": "code",
   "execution_count": null,
   "metadata": {
    "collapsed": true
   },
   "outputs": [],
   "source": []
  }
 ],
 "metadata": {
  "kernelspec": {
   "display_name": "Python 2",
   "language": "python",
   "name": "python2"
  },
  "language_info": {
   "codemirror_mode": {
    "name": "ipython",
    "version": 2
   },
   "file_extension": ".py",
   "mimetype": "text/x-python",
   "name": "python",
   "nbconvert_exporter": "python",
   "pygments_lexer": "ipython2",
   "version": "2.7.11"
  }
 },
 "nbformat": 4,
 "nbformat_minor": 0
}
