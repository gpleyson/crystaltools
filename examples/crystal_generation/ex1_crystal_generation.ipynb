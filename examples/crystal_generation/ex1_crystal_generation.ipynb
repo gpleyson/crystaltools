{
 "cells": [
  {
   "cell_type": "code",
   "execution_count": 1,
   "metadata": {
    "collapsed": true
   },
   "outputs": [],
   "source": [
    "%matplotlib notebook\n",
    "import numpy as np\n",
    "import crystaltools.crystal_generator as cg\n",
    "import crystaltools.crystal_visualizer as cv\n",
    "import matplotlib.pyplot as plt\n",
    "import matplotlib as mpl\n",
    "from mpl_toolkits.mplot3d import proj3d"
   ]
  },
  {
   "cell_type": "code",
   "execution_count": 4,
   "metadata": {
    "collapsed": false
   },
   "outputs": [
    {
     "name": "stdout",
     "output_type": "stream",
     "text": [
      "Getting neighbor distances (periodic): 100%\n",
      "\n"
     ]
    }
   ],
   "source": [
    "unit = cg.get_unit_cell('fcc primitive', 2.8)\n",
    "\n",
    "v1 = np.array([-1., 1., 0.])\n",
    "v2 = np.array([1., 1., 1.])\n",
    "\n",
    "v3 = np.cross(v1, v2)\n",
    "\n",
    "v1 = np.array([1., 0., 0.])\n",
    "v2 = np.array([0., 1., 0.])\n",
    "v3 = np.cross(v1, v2)\n",
    "\n",
    "\n",
    "sc = unit.create_supercell(10, 10, 10, name='supercell')\n",
    "# sc = unit.create_supercell(4,4,4, name='supercell')\n",
    "newcell = unit.create_new_orientation(v1, v2, v3, name='new orientation')\n",
    "newcell.reorient()\n",
    "\n",
    "# Rmat = create_rotation_matrix(v1, v2)\n",
    "# newcell.rotate_crystal(Rmat)\n",
    "\n",
    "dist = sc.find_distance_peroidic()\n",
    "\n",
    "a0 = sc.scale\n",
    "ep = a0 * 1.e-5\n",
    "d0 = 0.\n",
    "d1 = a0*(1./np.sqrt(2.))\n",
    "d2 = a0\n",
    "\n",
    "idn1 = sc.get_neighbor_list(dmax=d1+ep, dmin=d0+ep)\n",
    "idn2 = sc.get_neighbor_list(dmax=d2+ep, dmin=d1+ep)\n",
    "\n",
    "rcar = sc.rcar\n"
   ]
  },
  {
   "cell_type": "code",
   "execution_count": 6,
   "metadata": {
    "collapsed": false
   },
   "outputs": [
    {
     "data": {
      "text/plain": [
       "[array([  1,   9,  10,  19,  90,  91, 100, 109, 190, 900, 901, 910]),\n",
       " array([  0,   2,  10,  11,  91,  92, 100, 101, 191, 901, 902, 911]),\n",
       " array([  1,   3,  11,  12,  92,  93, 101, 102, 192, 902, 903, 912]),\n",
       " array([  2,   4,  12,  13,  93,  94, 102, 103, 193, 903, 904, 913]),\n",
       " array([  3,   5,  13,  14,  94,  95, 103, 104, 194, 904, 905, 914])]"
      ]
     },
     "execution_count": 6,
     "metadata": {},
     "output_type": "execute_result"
    }
   ],
   "source": [
    "idn1[:5]"
   ]
  },
  {
   "cell_type": "code",
   "execution_count": 7,
   "metadata": {
    "collapsed": false
   },
   "outputs": [
    {
     "data": {
      "text/plain": [
       "array([[-14. , -14. , -14. ],\n",
       "       [-12.6, -12.6, -14. ],\n",
       "       [-11.2, -11.2, -14. ],\n",
       "       ..., \n",
       "       [  8.4,   8.4,  11.2],\n",
       "       [  9.8,   9.8,  11.2],\n",
       "       [ 11.2,  11.2,  11.2]])"
      ]
     },
     "execution_count": 7,
     "metadata": {},
     "output_type": "execute_result"
    }
   ],
   "source": [
    "sc.rcar"
   ]
  },
  {
   "cell_type": "code",
   "execution_count": 8,
   "metadata": {
    "collapsed": false
   },
   "outputs": [
    {
     "data": {
      "text/plain": [
       "array([[-0.5, -0.5, -0.5],\n",
       "       [-0.4, -0.5, -0.5],\n",
       "       [-0.3, -0.5, -0.5],\n",
       "       ..., \n",
       "       [ 0.2,  0.4,  0.4],\n",
       "       [ 0.3,  0.4,  0.4],\n",
       "       [ 0.4,  0.4,  0.4]])"
      ]
     },
     "execution_count": 8,
     "metadata": {},
     "output_type": "execute_result"
    }
   ],
   "source": [
    "sc.rrel"
   ]
  },
  {
   "cell_type": "code",
   "execution_count": 9,
   "metadata": {
    "collapsed": false
   },
   "outputs": [
    {
     "data": {
      "text/plain": [
       "array([[ 5.,  5.,  0.],\n",
       "       [ 5.,  0.,  5.],\n",
       "       [ 0.,  5.,  5.]])"
      ]
     },
     "execution_count": 9,
     "metadata": {},
     "output_type": "execute_result"
    }
   ],
   "source": [
    "sc.lattvec"
   ]
  },
  {
   "cell_type": "code",
   "execution_count": null,
   "metadata": {
    "collapsed": true
   },
   "outputs": [],
   "source": []
  }
 ],
 "metadata": {
  "kernelspec": {
   "display_name": "Python 2",
   "language": "python",
   "name": "python2"
  },
  "language_info": {
   "codemirror_mode": {
    "name": "ipython",
    "version": 2
   },
   "file_extension": ".py",
   "mimetype": "text/x-python",
   "name": "python",
   "nbconvert_exporter": "python",
   "pygments_lexer": "ipython2",
   "version": "2.7.11"
  }
 },
 "nbformat": 4,
 "nbformat_minor": 0
}
