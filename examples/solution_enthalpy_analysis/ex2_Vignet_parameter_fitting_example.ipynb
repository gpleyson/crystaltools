{
 "cells": [
  {
   "cell_type": "markdown",
   "metadata": {},
   "source": [
    "# Vignet parameter fitting\n",
    "\n",
    "Here, we fit Vignet parameters (Murnagahn plots) using the data collected in VASP_data_aggregation_example.ipynb.  You see in this example how to go back to the primary files in order to extract missing data needed for the analysis."
   ]
  },
  {
   "cell_type": "code",
   "execution_count": 1,
   "metadata": {
    "collapsed": true
   },
   "outputs": [],
   "source": [
    "import numpy as np\n",
    "import pandas as pd\n",
    "from collections import namedtuple\n",
    "\n",
    "import crystaltools.vasprun_parser as vp\n",
    "import crystaltools.fetch_tools as ft\n",
    "import crystaltools.crystal_generator as cg\n",
    "import crystaltools.murnagahn as murn\n",
    "\n",
    "%matplotlib inline\n",
    "import matplotlib.pyplot as plt\n",
    "import matplotlib as mpl\n",
    "mpl.style.use('ggplot')"
   ]
  },
  {
   "cell_type": "code",
   "execution_count": 2,
   "metadata": {
    "collapsed": false
   },
   "outputs": [],
   "source": [
    "# Sane color scheme\n",
    "Color = namedtuple('Color', ['red', 'blue', 'orange', 'cyan', 'green', 'yellow'])\n",
    "sol = Color(red='#dc322f', blue='#268bd2', orange='#cb4b16', cyan='#2aa198', \n",
    "            green='#859900', yellow='#b58900')"
   ]
  },
  {
   "cell_type": "markdown",
   "metadata": {},
   "source": [
    "## Load data from json file"
   ]
  },
  {
   "cell_type": "code",
   "execution_count": 3,
   "metadata": {
    "collapsed": false
   },
   "outputs": [
    {
     "data": {
      "text/html": [
       "<div>\n",
       "<table border=\"1\" class=\"dataframe\">\n",
       "  <thead>\n",
       "    <tr style=\"text-align: right;\">\n",
       "      <th></th>\n",
       "      <th>conv</th>\n",
       "      <th>cubic</th>\n",
       "      <th>e_0_energy</th>\n",
       "      <th>e_fr_energy</th>\n",
       "      <th>e_wo_entrp</th>\n",
       "      <th>el1</th>\n",
       "      <th>el2</th>\n",
       "      <th>encut</th>\n",
       "      <th>isif</th>\n",
       "      <th>kx</th>\n",
       "      <th>ky</th>\n",
       "      <th>kz</th>\n",
       "      <th>n1</th>\n",
       "      <th>n2</th>\n",
       "      <th>path</th>\n",
       "      <th>v1</th>\n",
       "      <th>v2</th>\n",
       "      <th>v3</th>\n",
       "      <th>volume</th>\n",
       "    </tr>\n",
       "  </thead>\n",
       "  <tbody>\n",
       "    <tr>\n",
       "      <th>0</th>\n",
       "      <td>1</td>\n",
       "      <td>1</td>\n",
       "      <td>0.005804</td>\n",
       "      <td>-264.335934</td>\n",
       "      <td>-264.337385</td>\n",
       "      <td>Zr</td>\n",
       "      <td>None</td>\n",
       "      <td>400</td>\n",
       "      <td>0</td>\n",
       "      <td>8</td>\n",
       "      <td>8</td>\n",
       "      <td>8</td>\n",
       "      <td>32</td>\n",
       "      <td>0</td>\n",
       "      <td>/Volumes/Elements/python/aydin/vasprun_dump/h5...</td>\n",
       "      <td>[8.6, 0.0, 0.0]</td>\n",
       "      <td>[0.0, 8.6, 0.0]</td>\n",
       "      <td>[0.0, 0.0, 8.6]</td>\n",
       "      <td>636.056000</td>\n",
       "    </tr>\n",
       "    <tr>\n",
       "      <th>1</th>\n",
       "      <td>1</td>\n",
       "      <td>1</td>\n",
       "      <td>-0.006999</td>\n",
       "      <td>-268.786227</td>\n",
       "      <td>-268.784477</td>\n",
       "      <td>Zr</td>\n",
       "      <td>None</td>\n",
       "      <td>400</td>\n",
       "      <td>0</td>\n",
       "      <td>8</td>\n",
       "      <td>8</td>\n",
       "      <td>8</td>\n",
       "      <td>32</td>\n",
       "      <td>0</td>\n",
       "      <td>/Volumes/Elements/python/aydin/vasprun_dump/h5...</td>\n",
       "      <td>[8.84, 0.0, 0.0]</td>\n",
       "      <td>[0.0, 8.84, 0.0]</td>\n",
       "      <td>[0.0, 0.0, 8.84]</td>\n",
       "      <td>690.807104</td>\n",
       "    </tr>\n",
       "    <tr>\n",
       "      <th>10</th>\n",
       "      <td>1</td>\n",
       "      <td>1</td>\n",
       "      <td>-0.004235</td>\n",
       "      <td>-279.711073</td>\n",
       "      <td>-279.710014</td>\n",
       "      <td>Ru</td>\n",
       "      <td>None</td>\n",
       "      <td>400</td>\n",
       "      <td>0</td>\n",
       "      <td>8</td>\n",
       "      <td>8</td>\n",
       "      <td>8</td>\n",
       "      <td>32</td>\n",
       "      <td>0</td>\n",
       "      <td>/Volumes/Elements/python/aydin/vasprun_dump/h5...</td>\n",
       "      <td>[7.26, 0.0, 0.0]</td>\n",
       "      <td>[0.0, 7.26, 0.0]</td>\n",
       "      <td>[0.0, 0.0, 7.26]</td>\n",
       "      <td>382.657176</td>\n",
       "    </tr>\n",
       "    <tr>\n",
       "      <th>100</th>\n",
       "      <td>1</td>\n",
       "      <td>1</td>\n",
       "      <td>-0.011961</td>\n",
       "      <td>-284.357077</td>\n",
       "      <td>-284.354086</td>\n",
       "      <td>Cr</td>\n",
       "      <td>F</td>\n",
       "      <td>400</td>\n",
       "      <td>0</td>\n",
       "      <td>8</td>\n",
       "      <td>8</td>\n",
       "      <td>8</td>\n",
       "      <td>32</td>\n",
       "      <td>1</td>\n",
       "      <td>/Volumes/Elements/python/aydin/vasprun_dump/h5...</td>\n",
       "      <td>[6.86, 0.0, 0.0]</td>\n",
       "      <td>[0.0, 6.86, 0.0]</td>\n",
       "      <td>[0.0, 0.0, 6.86]</td>\n",
       "      <td>322.828856</td>\n",
       "    </tr>\n",
       "    <tr>\n",
       "      <th>1000</th>\n",
       "      <td>1</td>\n",
       "      <td>1</td>\n",
       "      <td>0.008310</td>\n",
       "      <td>-166.880212</td>\n",
       "      <td>-166.882290</td>\n",
       "      <td>La</td>\n",
       "      <td>C</td>\n",
       "      <td>400</td>\n",
       "      <td>0</td>\n",
       "      <td>8</td>\n",
       "      <td>8</td>\n",
       "      <td>8</td>\n",
       "      <td>32</td>\n",
       "      <td>1</td>\n",
       "      <td>/Volumes/Elements/python/aydin/vasprun_dump/h5...</td>\n",
       "      <td>[10.56, 0.0, 0.0]</td>\n",
       "      <td>[0.0, 10.56, 0.0]</td>\n",
       "      <td>[0.0, 0.0, 10.56]</td>\n",
       "      <td>1177.583616</td>\n",
       "    </tr>\n",
       "  </tbody>\n",
       "</table>\n",
       "</div>"
      ],
      "text/plain": [
       "      conv  cubic  e_0_energy  e_fr_energy  e_wo_entrp el1   el2  encut  isif  \\\n",
       "0        1      1    0.005804  -264.335934 -264.337385  Zr  None    400     0   \n",
       "1        1      1   -0.006999  -268.786227 -268.784477  Zr  None    400     0   \n",
       "10       1      1   -0.004235  -279.711073 -279.710014  Ru  None    400     0   \n",
       "100      1      1   -0.011961  -284.357077 -284.354086  Cr    F     400     0   \n",
       "1000     1      1    0.008310  -166.880212 -166.882290  La    C     400     0   \n",
       "\n",
       "      kx  ky  kz  n1  n2                                               path  \\\n",
       "0      8   8   8  32   0  /Volumes/Elements/python/aydin/vasprun_dump/h5...   \n",
       "1      8   8   8  32   0  /Volumes/Elements/python/aydin/vasprun_dump/h5...   \n",
       "10     8   8   8  32   0  /Volumes/Elements/python/aydin/vasprun_dump/h5...   \n",
       "100    8   8   8  32   1  /Volumes/Elements/python/aydin/vasprun_dump/h5...   \n",
       "1000   8   8   8  32   1  /Volumes/Elements/python/aydin/vasprun_dump/h5...   \n",
       "\n",
       "                     v1                 v2                 v3       volume  \n",
       "0       [8.6, 0.0, 0.0]    [0.0, 8.6, 0.0]    [0.0, 0.0, 8.6]   636.056000  \n",
       "1      [8.84, 0.0, 0.0]   [0.0, 8.84, 0.0]   [0.0, 0.0, 8.84]   690.807104  \n",
       "10     [7.26, 0.0, 0.0]   [0.0, 7.26, 0.0]   [0.0, 0.0, 7.26]   382.657176  \n",
       "100    [6.86, 0.0, 0.0]   [0.0, 6.86, 0.0]   [0.0, 0.0, 6.86]   322.828856  \n",
       "1000  [10.56, 0.0, 0.0]  [0.0, 10.56, 0.0]  [0.0, 0.0, 10.56]  1177.583616  "
      ]
     },
     "execution_count": 3,
     "metadata": {},
     "output_type": "execute_result"
    }
   ],
   "source": [
    "# Load previously calculated json file\n",
    "df_all = pd.DataFrame()\n",
    "df_all = pd.read_json('aydin_data_summary.json')\n",
    "\n",
    "# Replace missing values with sensible values\n",
    "df_all['n2'].fillna(0, inplace=True)\n",
    "df_all['el2'].fillna('None', inplace=True)\n",
    "\n",
    "df_all.head()"
   ]
  },
  {
   "cell_type": "markdown",
   "metadata": {},
   "source": [
    "## Data exploration\n",
    "\n",
    "We can take a quick look at the data that we had from before.  Here, I plot how many calculations are made for each matri and solute element."
   ]
  },
  {
   "cell_type": "code",
   "execution_count": 4,
   "metadata": {
    "collapsed": true
   },
   "outputs": [],
   "source": [
    "def plot_groupby(df, field, fignum=1, figsize=(8,4)):\n",
    "    gb = df_all.groupby(field)\n",
    "\n",
    "    fig = plt.figure(fignum, figsize=figsize)\n",
    "    fig.clf()\n",
    "    ax = fig.add_subplot(111)\n",
    "    gb.size().plot(ax=ax, kind='bar', color=sol.blue)\n",
    "    \n",
    "    return ax"
   ]
  },
  {
   "cell_type": "code",
   "execution_count": 5,
   "metadata": {
    "collapsed": false
   },
   "outputs": [
    {
     "data": {
      "text/plain": [
       "<matplotlib.text.Text at 0x110948050>"
      ]
     },
     "execution_count": 5,
     "metadata": {},
     "output_type": "execute_result"
    },
    {
     "data": {
      "image/png": "[encoded data removed]",
      "text/plain": [
       "<matplotlib.figure.Figure at 0x10c7b4b90>"
      ]
     },
     "metadata": {},
     "output_type": "display_data"
    }
   ],
   "source": [
    "# plot calculation count of primary elements\n",
    "ax = plot_groupby(df_all, 'el1', figsize=(15,4))\n",
    "ax.set_xlabel('Primary element')\n",
    "ax.set_ylabel('count')\n",
    "ax.set_title('Calculation count of matrix element')"
   ]
  },
  {
   "cell_type": "code",
   "execution_count": 6,
   "metadata": {
    "collapsed": false
   },
   "outputs": [
    {
     "data": {
      "text/plain": [
       "<matplotlib.text.Text at 0x11030c890>"
      ]
     },
     "execution_count": 6,
     "metadata": {},
     "output_type": "execute_result"
    },
    {
     "data": {
      "image/png": "[encoded data removed]",
      "text/plain": [
       "<matplotlib.figure.Figure at 0x10e742d90>"
      ]
     },
     "metadata": {},
     "output_type": "display_data"
    }
   ],
   "source": [
    "# Plot calculation count of interstitial elements\n",
    "ax = plot_groupby(df_all, 'el2', figsize=(8,4))\n",
    "ax.set_xlabel('Primary element')\n",
    "ax.set_ylabel('count')\n",
    "ax.set_title('Calculation count of interstitial element')"
   ]
  },
  {
   "cell_type": "code",
   "execution_count": 7,
   "metadata": {
    "collapsed": false
   },
   "outputs": [
    {
     "data": {
      "text/plain": [
       "<matplotlib.text.Text at 0x10e0cc850>"
      ]
     },
     "execution_count": 7,
     "metadata": {},
     "output_type": "execute_result"
    },
    {
     "data": {
      "image/png": "[encoded data removed]",
      "text/plain": [
       "<matplotlib.figure.Figure at 0x10fcccf10>"
      ]
     },
     "metadata": {},
     "output_type": "display_data"
    }
   ],
   "source": [
    "# Plot calculation count of the number of primary atoms\n",
    "ax = plot_groupby(df_all, 'n1', figsize=(8,4))\n",
    "ax.set_xlabel('n1')\n",
    "ax.set_ylabel('count')\n",
    "ax.set_title('Calculation count of supercell size')"
   ]
  },
  {
   "cell_type": "markdown",
   "metadata": {},
   "source": [
    "## Grab a subset of the data\n",
    "\n",
    "Here, we are interested in fitting the Vignet parameters for a particular matrix element and a particular interstitial element.  We want to compare apples to apples, so we need to make sure that we are grabbing the same parameters across the calculations.\n",
    "\n",
    "Our filter are as follows:\n",
    "- matrix: name of matrix element\n",
    "- solname: name of interstitial element\n",
    "- n1: number of matrix elements in the supercell\n",
    "- n2: number of interstitial elements in the supercell\n",
    "- isif: ISIF paramter\n",
    "- cubic: boolean whether supercell is cubic or not\n",
    "\n",
    "We also want to filter using some parameter we do not have in df_all:\n",
    "- ismear: ISMEAR paramter\n",
    "- magnetic: boolean whether the MAGMOM paramter is in the INCAR or not"
   ]
  },
  {
   "cell_type": "code",
   "execution_count": 8,
   "metadata": {
    "collapsed": true
   },
   "outputs": [],
   "source": [
    "# Parameters to be used as filter\n",
    "matrix = 'Pd'\n",
    "solname = 'H '\n",
    "n1 = 32\n",
    "n2 = 1\n",
    "kx = 8\n",
    "isif = 0\n",
    "cubic = True\n",
    "ismear = 2\n",
    "magnetic = False"
   ]
  },
  {
   "cell_type": "code",
   "execution_count": 9,
   "metadata": {
    "collapsed": true
   },
   "outputs": [],
   "source": [
    "dfsub = df_all[(df_all.el1==matrix)&(df_all.el2==solname)&(df_all.n1==n1)&\n",
    "               (df_all.n2==n2)&(df_all.kx==kx)&(df_all.isif==isif)].copy()\n",
    "dfsub.reset_index(inplace=True)"
   ]
  },
  {
   "cell_type": "code",
   "execution_count": 10,
   "metadata": {
    "collapsed": true
   },
   "outputs": [],
   "source": [
    "# We can also add some new metadata to the table.  We can infer from n1 and cubic the \n",
    "# type of crystal structure\n",
    "if (cubic)&(n1 in [4*(n)**3. for n in xrange(10)]):\n",
    "    crystal_type = 'fcc'\n",
    "elif (cubic)&(n1 in [2*(n)**3. for n in xrange(10)]):\n",
    "    crystal_type = 'bcc'\n",
    "elif cubic:\n",
    "    crystal_type = 'cubic'\n",
    "else:\n",
    "    crystal_type = 'non-cubic'\n",
    "    \n",
    "dfsub['crystal_type'] = crystal_type"
   ]
  },
  {
   "cell_type": "code",
   "execution_count": 11,
   "metadata": {
    "collapsed": false
   },
   "outputs": [
    {
     "data": {
      "text/html": [
       "<div>\n",
       "<table border=\"1\" class=\"dataframe\">\n",
       "  <thead>\n",
       "    <tr style=\"text-align: right;\">\n",
       "      <th></th>\n",
       "      <th>index</th>\n",
       "      <th>conv</th>\n",
       "      <th>cubic</th>\n",
       "      <th>e_0_energy</th>\n",
       "      <th>e_fr_energy</th>\n",
       "      <th>e_wo_entrp</th>\n",
       "      <th>el1</th>\n",
       "      <th>el2</th>\n",
       "      <th>encut</th>\n",
       "      <th>isif</th>\n",
       "      <th>...</th>\n",
       "      <th>ky</th>\n",
       "      <th>kz</th>\n",
       "      <th>n1</th>\n",
       "      <th>n2</th>\n",
       "      <th>path</th>\n",
       "      <th>v1</th>\n",
       "      <th>v2</th>\n",
       "      <th>v3</th>\n",
       "      <th>volume</th>\n",
       "      <th>crystal_type</th>\n",
       "    </tr>\n",
       "  </thead>\n",
       "  <tbody>\n",
       "    <tr>\n",
       "      <th>0</th>\n",
       "      <td>2611</td>\n",
       "      <td>1</td>\n",
       "      <td>1</td>\n",
       "      <td>-0.012474</td>\n",
       "      <td>-160.495703</td>\n",
       "      <td>-160.492584</td>\n",
       "      <td>Pd</td>\n",
       "      <td>H</td>\n",
       "      <td>400</td>\n",
       "      <td>0</td>\n",
       "      <td>...</td>\n",
       "      <td>8</td>\n",
       "      <td>8</td>\n",
       "      <td>32</td>\n",
       "      <td>1</td>\n",
       "      <td>/Volumes/Elements/python/aydin/vasprun_dump/h5...</td>\n",
       "      <td>[7.5, 0.0, 0.0]</td>\n",
       "      <td>[0.0, 7.5, 0.0]</td>\n",
       "      <td>[0.0, 0.0, 7.5]</td>\n",
       "      <td>421.875</td>\n",
       "      <td>fcc</td>\n",
       "    </tr>\n",
       "    <tr>\n",
       "      <th>1</th>\n",
       "      <td>2612</td>\n",
       "      <td>1</td>\n",
       "      <td>1</td>\n",
       "      <td>-0.013960</td>\n",
       "      <td>-167.036526</td>\n",
       "      <td>-167.033036</td>\n",
       "      <td>Pd</td>\n",
       "      <td>H</td>\n",
       "      <td>400</td>\n",
       "      <td>0</td>\n",
       "      <td>...</td>\n",
       "      <td>8</td>\n",
       "      <td>8</td>\n",
       "      <td>32</td>\n",
       "      <td>1</td>\n",
       "      <td>/Volumes/Elements/python/aydin/vasprun_dump/h5...</td>\n",
       "      <td>[7.7, 0.0, 0.0]</td>\n",
       "      <td>[0.0, 7.7, 0.0]</td>\n",
       "      <td>[0.0, 0.0, 7.7]</td>\n",
       "      <td>456.533</td>\n",
       "      <td>fcc</td>\n",
       "    </tr>\n",
       "    <tr>\n",
       "      <th>2</th>\n",
       "      <td>2613</td>\n",
       "      <td>1</td>\n",
       "      <td>1</td>\n",
       "      <td>-0.009884</td>\n",
       "      <td>-169.207792</td>\n",
       "      <td>-169.205321</td>\n",
       "      <td>Pd</td>\n",
       "      <td>H</td>\n",
       "      <td>400</td>\n",
       "      <td>0</td>\n",
       "      <td>...</td>\n",
       "      <td>8</td>\n",
       "      <td>8</td>\n",
       "      <td>32</td>\n",
       "      <td>1</td>\n",
       "      <td>/Volumes/Elements/python/aydin/vasprun_dump/h5...</td>\n",
       "      <td>[7.9, 0.0, 0.0]</td>\n",
       "      <td>[0.0, 7.9, 0.0]</td>\n",
       "      <td>[0.0, 0.0, 7.9]</td>\n",
       "      <td>493.039</td>\n",
       "      <td>fcc</td>\n",
       "    </tr>\n",
       "    <tr>\n",
       "      <th>3</th>\n",
       "      <td>2614</td>\n",
       "      <td>1</td>\n",
       "      <td>1</td>\n",
       "      <td>-0.003630</td>\n",
       "      <td>-168.239171</td>\n",
       "      <td>-168.238263</td>\n",
       "      <td>Pd</td>\n",
       "      <td>H</td>\n",
       "      <td>400</td>\n",
       "      <td>0</td>\n",
       "      <td>...</td>\n",
       "      <td>8</td>\n",
       "      <td>8</td>\n",
       "      <td>32</td>\n",
       "      <td>1</td>\n",
       "      <td>/Volumes/Elements/python/aydin/vasprun_dump/h5...</td>\n",
       "      <td>[8.1, 0.0, 0.0]</td>\n",
       "      <td>[0.0, 8.1, 0.0]</td>\n",
       "      <td>[0.0, 0.0, 8.1]</td>\n",
       "      <td>531.441</td>\n",
       "      <td>fcc</td>\n",
       "    </tr>\n",
       "    <tr>\n",
       "      <th>4</th>\n",
       "      <td>2615</td>\n",
       "      <td>1</td>\n",
       "      <td>1</td>\n",
       "      <td>-0.002534</td>\n",
       "      <td>-165.078823</td>\n",
       "      <td>-165.078190</td>\n",
       "      <td>Pd</td>\n",
       "      <td>H</td>\n",
       "      <td>400</td>\n",
       "      <td>0</td>\n",
       "      <td>...</td>\n",
       "      <td>8</td>\n",
       "      <td>8</td>\n",
       "      <td>32</td>\n",
       "      <td>1</td>\n",
       "      <td>/Volumes/Elements/python/aydin/vasprun_dump/h5...</td>\n",
       "      <td>[8.3, 0.0, 0.0]</td>\n",
       "      <td>[0.0, 8.3, 0.0]</td>\n",
       "      <td>[0.0, 0.0, 8.3]</td>\n",
       "      <td>571.787</td>\n",
       "      <td>fcc</td>\n",
       "    </tr>\n",
       "  </tbody>\n",
       "</table>\n",
       "<p>5 rows × 21 columns</p>\n",
       "</div>"
      ],
      "text/plain": [
       "   index  conv  cubic  e_0_energy  e_fr_energy  e_wo_entrp el1 el2  encut  \\\n",
       "0   2611     1      1   -0.012474  -160.495703 -160.492584  Pd  H     400   \n",
       "1   2612     1      1   -0.013960  -167.036526 -167.033036  Pd  H     400   \n",
       "2   2613     1      1   -0.009884  -169.207792 -169.205321  Pd  H     400   \n",
       "3   2614     1      1   -0.003630  -168.239171 -168.238263  Pd  H     400   \n",
       "4   2615     1      1   -0.002534  -165.078823 -165.078190  Pd  H     400   \n",
       "\n",
       "   isif      ...       ky  kz  n1  n2  \\\n",
       "0     0      ...        8   8  32   1   \n",
       "1     0      ...        8   8  32   1   \n",
       "2     0      ...        8   8  32   1   \n",
       "3     0      ...        8   8  32   1   \n",
       "4     0      ...        8   8  32   1   \n",
       "\n",
       "                                                path               v1  \\\n",
       "0  /Volumes/Elements/python/aydin/vasprun_dump/h5...  [7.5, 0.0, 0.0]   \n",
       "1  /Volumes/Elements/python/aydin/vasprun_dump/h5...  [7.7, 0.0, 0.0]   \n",
       "2  /Volumes/Elements/python/aydin/vasprun_dump/h5...  [7.9, 0.0, 0.0]   \n",
       "3  /Volumes/Elements/python/aydin/vasprun_dump/h5...  [8.1, 0.0, 0.0]   \n",
       "4  /Volumes/Elements/python/aydin/vasprun_dump/h5...  [8.3, 0.0, 0.0]   \n",
       "\n",
       "                v2               v3   volume  crystal_type  \n",
       "0  [0.0, 7.5, 0.0]  [0.0, 0.0, 7.5]  421.875           fcc  \n",
       "1  [0.0, 7.7, 0.0]  [0.0, 0.0, 7.7]  456.533           fcc  \n",
       "2  [0.0, 7.9, 0.0]  [0.0, 0.0, 7.9]  493.039           fcc  \n",
       "3  [0.0, 8.1, 0.0]  [0.0, 0.0, 8.1]  531.441           fcc  \n",
       "4  [0.0, 8.3, 0.0]  [0.0, 0.0, 8.3]  571.787           fcc  \n",
       "\n",
       "[5 rows x 21 columns]"
      ]
     },
     "execution_count": 11,
     "metadata": {},
     "output_type": "execute_result"
    }
   ],
   "source": [
    "dfsub.head()"
   ]
  },
  {
   "cell_type": "code",
   "execution_count": 12,
   "metadata": {
    "collapsed": false
   },
   "outputs": [
    {
     "data": {
      "text/plain": [
       "<matplotlib.text.Text at 0x10f45f950>"
      ]
     },
     "execution_count": 12,
     "metadata": {},
     "output_type": "execute_result"
    },
    {
     "data": {
      "image/png": "[encoded data removed]",
      "text/plain": [
       "<matplotlib.figure.Figure at 0x10f048850>"
      ]
     },
     "metadata": {},
     "output_type": "display_data"
    },
    {
     "data": {
      "image/png": "[encoded data removed]",
      "text/plain": [
       "<matplotlib.figure.Figure at 0x10f608850>"
      ]
     },
     "metadata": {},
     "output_type": "display_data"
    }
   ],
   "source": [
    "# Plot energy versus volume curve\n",
    "fig = plt.figure(1)\n",
    "fig.clf()\n",
    "ax = fig.add_subplot(111)\n",
    "dfsub.plot(ax=ax, x='volume', y='e_fr_energy', style='o')\n",
    "ax.set_xlim([dfsub.volume.min(), dfsub.volume.max()]);\n",
    "ax.set_xlabel('Volume (\\AA$^3$)')\n",
    "ax.set_ylabel('Energy (eV)')\n",
    "ax.set_title('Energy vs. Volume')\n",
    "\n",
    "# bar chart of calculation count versus volume\n",
    "fig2 = plt.figure(2)\n",
    "fig2.clf()\n",
    "ax2 = fig2.add_subplot(111)\n",
    "gb = dfsub.groupby('volume')\n",
    "gb.size().plot(ax=ax2, kind='bar', color=sol.blue)\n",
    "ax2.set_xlabel('Volume (\\AA$^3$)')\n",
    "ax2.set_ylabel('count')\n",
    "ax2.set_title('Calculation count vs. Volume')"
   ]
  },
  {
   "cell_type": "markdown",
   "metadata": {},
   "source": [
    "#### **Remark**: Notice that there are sometimes two calculations per volume.  These corresponds to octahedral and tetrahedral sites.  To decouple these, we need more information from the vasp jobs."
   ]
  },
  {
   "cell_type": "markdown",
   "metadata": {},
   "source": [
    "## Extract additional information from vasprun\n",
    "\n",
    "We can do this by using the get_aggregate_data from the vasp_parser module.  We just need to define a new aggregation function. Since we are going back to the vasprun data, we might as well grab some other useful paramters along the way.  \n",
    "\n",
    "#### New parameters to be fetched:\n",
    "- a0: lattice paramter\n",
    "- dnn: distance of the nearest neighbors\n",
    "- Nnn: number of nearest neighbors\n",
    "- ismear: ISMEAR parameter from INCAR\n",
    "- sigma: SIGMA parameter from INCAR\n",
    "- magmom: boolean stating whether the MAGMOM parameter exists in the INCAR\n",
    "\n",
    "Here, I used my crystal generator module to center the solute atom in order to make sure that it is in the center and that there are no spurious results due to supercell periodicity.\n",
    "\n",
    "The list of directories are given by a column on our existing dataframe."
   ]
  },
  {
   "cell_type": "code",
   "execution_count": 13,
   "metadata": {
    "collapsed": true
   },
   "outputs": [],
   "source": [
    "def fxn_aggregator(file_path):\n",
    "    with vp.VasprunHDFParser(directory='', filename=file_path) as vasprun:\n",
    "        cellvec = vasprun.get_cell_vectors()\n",
    "        element = vasprun.get_atoms()['atomtype']\n",
    "        positions = vasprun.get_positions(state='final', coords='relative')\n",
    "        rrel = np.array(positions[['rx', 'ry', 'rz']])\n",
    "\n",
    "        # construct crystal\n",
    "        crys = cg.Crystal()\n",
    "        crys.cellvec = cellvec\n",
    "        crys.itype = np.array(element).astype('int')\n",
    "        crys.rrel = rrel\n",
    "\n",
    "        # calculate lattice parameter\n",
    "        if len(crys.xcar[crys.itype==1]) in [4*(n)**(3.) for n in xrange(10)]:\n",
    "            nsc = (len(crys.xcar[crys.itype==1])/4)**(1./3.)\n",
    "        elif len(crys.xcar[crys.itype==1]) in [2*(n)**(3.) for n in xrange(10)]:\n",
    "            nsc = (len(crys.xcar[crys.itype==1])/2)**(1./3.)\n",
    "        a0 = np.linalg.norm(cellvec[:,0]) / nsc\n",
    "\n",
    "        # center cell on the interstitial\n",
    "        r0 = crys.rcar[crys.itype==2]\n",
    "        crys.translate_cartesian(r0)\n",
    "        crys.center_atoms()\n",
    "\n",
    "        # calculate nearest neighbor distances\n",
    "        eps = 0.00001\n",
    "        mask = (crys.itype==1)\n",
    "        dist = (crys.xcar[mask]**2. + crys.ycar[mask]**2. + \n",
    "                crys.zcar[mask]**2.)**(1./2.)/a0\n",
    "        dnn = min(dist)\n",
    "        Nnn = len(dist[dist<= dnn+eps])\n",
    "        \n",
    "        # get ISMEAR and SIGMA parameters\n",
    "        incar = vasprun.get_incar()\n",
    "        incar = vasprun.get_incar()\n",
    "        if 'ISMEAR' in incar.keys():\n",
    "            ismear = incar.ISMEAR\n",
    "        else:\n",
    "            ismear = np.nan\n",
    "            \n",
    "        if 'SIGMA' in incar.keys():\n",
    "            sigma = incar.SIGMA\n",
    "        else:\n",
    "            sigma = np.nan\n",
    "            \n",
    "        if 'MAGMOM' in incar.keys():\n",
    "            magmom = True\n",
    "        else:\n",
    "            magmom = False\n",
    "\n",
    "        # construct pandas series\n",
    "        return pd.Series([file_path, a0, dnn, Nnn, ismear, sigma, magmom], \n",
    "                         index=['path', 'a0', 'dnn', 'Nnn', 'ismear', 'sigma', 'magmom'])"
   ]
  },
  {
   "cell_type": "code",
   "execution_count": 14,
   "metadata": {
    "collapsed": true
   },
   "outputs": [],
   "source": [
    "# get path list from dfsub\n",
    "path_list = list(dfsub.path)"
   ]
  },
  {
   "cell_type": "code",
   "execution_count": 15,
   "metadata": {
    "collapsed": false
   },
   "outputs": [
    {
     "name": "stdout",
     "output_type": "stream",
     "text": [
      "[====================] 100%.  - Processing /Volumes/Elements/python/aydin/vasprun_dump/h5files/vasprun_04440.h5"
     ]
    }
   ],
   "source": [
    "# apply fxn_aggregator to path_list\n",
    "dfnn, bad_path = ft.get_aggregate_data(fxn_aggregator, path_list, verbose=True)"
   ]
  },
  {
   "cell_type": "code",
   "execution_count": 16,
   "metadata": {
    "collapsed": false
   },
   "outputs": [
    {
     "data": {
      "text/html": [
       "<div>\n",
       "<table border=\"1\" class=\"dataframe\">\n",
       "  <thead>\n",
       "    <tr style=\"text-align: right;\">\n",
       "      <th></th>\n",
       "      <th>Nnn</th>\n",
       "      <th>a0</th>\n",
       "      <th>dnn</th>\n",
       "      <th>ismear</th>\n",
       "      <th>magmom</th>\n",
       "      <th>path</th>\n",
       "      <th>sigma</th>\n",
       "    </tr>\n",
       "  </thead>\n",
       "  <tbody>\n",
       "    <tr>\n",
       "      <th>0</th>\n",
       "      <td>4</td>\n",
       "      <td>3.75</td>\n",
       "      <td>0.060313</td>\n",
       "      <td>2</td>\n",
       "      <td>0</td>\n",
       "      <td>/Volumes/Elements/python/aydin/vasprun_dump/h5...</td>\n",
       "      <td>0.1</td>\n",
       "    </tr>\n",
       "    <tr>\n",
       "      <th>1</th>\n",
       "      <td>4</td>\n",
       "      <td>3.85</td>\n",
       "      <td>0.058710</td>\n",
       "      <td>2</td>\n",
       "      <td>0</td>\n",
       "      <td>/Volumes/Elements/python/aydin/vasprun_dump/h5...</td>\n",
       "      <td>0.1</td>\n",
       "    </tr>\n",
       "    <tr>\n",
       "      <th>2</th>\n",
       "      <td>4</td>\n",
       "      <td>3.95</td>\n",
       "      <td>0.057143</td>\n",
       "      <td>2</td>\n",
       "      <td>0</td>\n",
       "      <td>/Volumes/Elements/python/aydin/vasprun_dump/h5...</td>\n",
       "      <td>0.1</td>\n",
       "    </tr>\n",
       "    <tr>\n",
       "      <th>3</th>\n",
       "      <td>4</td>\n",
       "      <td>4.05</td>\n",
       "      <td>0.055576</td>\n",
       "      <td>2</td>\n",
       "      <td>0</td>\n",
       "      <td>/Volumes/Elements/python/aydin/vasprun_dump/h5...</td>\n",
       "      <td>0.1</td>\n",
       "    </tr>\n",
       "    <tr>\n",
       "      <th>4</th>\n",
       "      <td>4</td>\n",
       "      <td>4.15</td>\n",
       "      <td>0.054000</td>\n",
       "      <td>2</td>\n",
       "      <td>0</td>\n",
       "      <td>/Volumes/Elements/python/aydin/vasprun_dump/h5...</td>\n",
       "      <td>0.1</td>\n",
       "    </tr>\n",
       "  </tbody>\n",
       "</table>\n",
       "</div>"
      ],
      "text/plain": [
       "   Nnn    a0       dnn  ismear  magmom  \\\n",
       "0    4  3.75  0.060313       2       0   \n",
       "1    4  3.85  0.058710       2       0   \n",
       "2    4  3.95  0.057143       2       0   \n",
       "3    4  4.05  0.055576       2       0   \n",
       "4    4  4.15  0.054000       2       0   \n",
       "\n",
       "                                                path  sigma  \n",
       "0  /Volumes/Elements/python/aydin/vasprun_dump/h5...    0.1  \n",
       "1  /Volumes/Elements/python/aydin/vasprun_dump/h5...    0.1  \n",
       "2  /Volumes/Elements/python/aydin/vasprun_dump/h5...    0.1  \n",
       "3  /Volumes/Elements/python/aydin/vasprun_dump/h5...    0.1  \n",
       "4  /Volumes/Elements/python/aydin/vasprun_dump/h5...    0.1  "
      ]
     },
     "execution_count": 16,
     "metadata": {},
     "output_type": "execute_result"
    }
   ],
   "source": [
    "dfnn.head()"
   ]
  },
  {
   "cell_type": "code",
   "execution_count": 17,
   "metadata": {
    "collapsed": false
   },
   "outputs": [
    {
     "data": {
      "text/html": [
       "<div>\n",
       "<table border=\"1\" class=\"dataframe\">\n",
       "  <thead>\n",
       "    <tr style=\"text-align: right;\">\n",
       "      <th></th>\n",
       "      <th>index</th>\n",
       "      <th>conv</th>\n",
       "      <th>cubic</th>\n",
       "      <th>e_0_energy</th>\n",
       "      <th>e_fr_energy</th>\n",
       "      <th>e_wo_entrp</th>\n",
       "      <th>el1</th>\n",
       "      <th>el2</th>\n",
       "      <th>encut</th>\n",
       "      <th>isif</th>\n",
       "      <th>...</th>\n",
       "      <th>v2</th>\n",
       "      <th>v3</th>\n",
       "      <th>volume</th>\n",
       "      <th>crystal_type</th>\n",
       "      <th>Nnn</th>\n",
       "      <th>a0</th>\n",
       "      <th>dnn</th>\n",
       "      <th>ismear</th>\n",
       "      <th>magmom</th>\n",
       "      <th>sigma</th>\n",
       "    </tr>\n",
       "  </thead>\n",
       "  <tbody>\n",
       "    <tr>\n",
       "      <th>0</th>\n",
       "      <td>2611</td>\n",
       "      <td>1</td>\n",
       "      <td>1</td>\n",
       "      <td>-0.012474</td>\n",
       "      <td>-160.495703</td>\n",
       "      <td>-160.492584</td>\n",
       "      <td>Pd</td>\n",
       "      <td>H</td>\n",
       "      <td>400</td>\n",
       "      <td>0</td>\n",
       "      <td>...</td>\n",
       "      <td>[0.0, 7.5, 0.0]</td>\n",
       "      <td>[0.0, 0.0, 7.5]</td>\n",
       "      <td>421.875</td>\n",
       "      <td>fcc</td>\n",
       "      <td>4</td>\n",
       "      <td>3.75</td>\n",
       "      <td>0.060313</td>\n",
       "      <td>2</td>\n",
       "      <td>0</td>\n",
       "      <td>0.1</td>\n",
       "    </tr>\n",
       "    <tr>\n",
       "      <th>1</th>\n",
       "      <td>2612</td>\n",
       "      <td>1</td>\n",
       "      <td>1</td>\n",
       "      <td>-0.013960</td>\n",
       "      <td>-167.036526</td>\n",
       "      <td>-167.033036</td>\n",
       "      <td>Pd</td>\n",
       "      <td>H</td>\n",
       "      <td>400</td>\n",
       "      <td>0</td>\n",
       "      <td>...</td>\n",
       "      <td>[0.0, 7.7, 0.0]</td>\n",
       "      <td>[0.0, 0.0, 7.7]</td>\n",
       "      <td>456.533</td>\n",
       "      <td>fcc</td>\n",
       "      <td>4</td>\n",
       "      <td>3.85</td>\n",
       "      <td>0.058710</td>\n",
       "      <td>2</td>\n",
       "      <td>0</td>\n",
       "      <td>0.1</td>\n",
       "    </tr>\n",
       "    <tr>\n",
       "      <th>2</th>\n",
       "      <td>2613</td>\n",
       "      <td>1</td>\n",
       "      <td>1</td>\n",
       "      <td>-0.009884</td>\n",
       "      <td>-169.207792</td>\n",
       "      <td>-169.205321</td>\n",
       "      <td>Pd</td>\n",
       "      <td>H</td>\n",
       "      <td>400</td>\n",
       "      <td>0</td>\n",
       "      <td>...</td>\n",
       "      <td>[0.0, 7.9, 0.0]</td>\n",
       "      <td>[0.0, 0.0, 7.9]</td>\n",
       "      <td>493.039</td>\n",
       "      <td>fcc</td>\n",
       "      <td>4</td>\n",
       "      <td>3.95</td>\n",
       "      <td>0.057143</td>\n",
       "      <td>2</td>\n",
       "      <td>0</td>\n",
       "      <td>0.1</td>\n",
       "    </tr>\n",
       "    <tr>\n",
       "      <th>3</th>\n",
       "      <td>2614</td>\n",
       "      <td>1</td>\n",
       "      <td>1</td>\n",
       "      <td>-0.003630</td>\n",
       "      <td>-168.239171</td>\n",
       "      <td>-168.238263</td>\n",
       "      <td>Pd</td>\n",
       "      <td>H</td>\n",
       "      <td>400</td>\n",
       "      <td>0</td>\n",
       "      <td>...</td>\n",
       "      <td>[0.0, 8.1, 0.0]</td>\n",
       "      <td>[0.0, 0.0, 8.1]</td>\n",
       "      <td>531.441</td>\n",
       "      <td>fcc</td>\n",
       "      <td>4</td>\n",
       "      <td>4.05</td>\n",
       "      <td>0.055576</td>\n",
       "      <td>2</td>\n",
       "      <td>0</td>\n",
       "      <td>0.1</td>\n",
       "    </tr>\n",
       "    <tr>\n",
       "      <th>4</th>\n",
       "      <td>2615</td>\n",
       "      <td>1</td>\n",
       "      <td>1</td>\n",
       "      <td>-0.002534</td>\n",
       "      <td>-165.078823</td>\n",
       "      <td>-165.078190</td>\n",
       "      <td>Pd</td>\n",
       "      <td>H</td>\n",
       "      <td>400</td>\n",
       "      <td>0</td>\n",
       "      <td>...</td>\n",
       "      <td>[0.0, 8.3, 0.0]</td>\n",
       "      <td>[0.0, 0.0, 8.3]</td>\n",
       "      <td>571.787</td>\n",
       "      <td>fcc</td>\n",
       "      <td>4</td>\n",
       "      <td>4.15</td>\n",
       "      <td>0.054000</td>\n",
       "      <td>2</td>\n",
       "      <td>0</td>\n",
       "      <td>0.1</td>\n",
       "    </tr>\n",
       "  </tbody>\n",
       "</table>\n",
       "<p>5 rows × 27 columns</p>\n",
       "</div>"
      ],
      "text/plain": [
       "   index  conv  cubic  e_0_energy  e_fr_energy  e_wo_entrp el1 el2  encut  \\\n",
       "0   2611     1      1   -0.012474  -160.495703 -160.492584  Pd  H     400   \n",
       "1   2612     1      1   -0.013960  -167.036526 -167.033036  Pd  H     400   \n",
       "2   2613     1      1   -0.009884  -169.207792 -169.205321  Pd  H     400   \n",
       "3   2614     1      1   -0.003630  -168.239171 -168.238263  Pd  H     400   \n",
       "4   2615     1      1   -0.002534  -165.078823 -165.078190  Pd  H     400   \n",
       "\n",
       "   isif  ...                 v2               v3   volume  crystal_type  Nnn  \\\n",
       "0     0  ...    [0.0, 7.5, 0.0]  [0.0, 0.0, 7.5]  421.875           fcc    4   \n",
       "1     0  ...    [0.0, 7.7, 0.0]  [0.0, 0.0, 7.7]  456.533           fcc    4   \n",
       "2     0  ...    [0.0, 7.9, 0.0]  [0.0, 0.0, 7.9]  493.039           fcc    4   \n",
       "3     0  ...    [0.0, 8.1, 0.0]  [0.0, 0.0, 8.1]  531.441           fcc    4   \n",
       "4     0  ...    [0.0, 8.3, 0.0]  [0.0, 0.0, 8.3]  571.787           fcc    4   \n",
       "\n",
       "     a0       dnn ismear magmom  sigma  \n",
       "0  3.75  0.060313      2      0    0.1  \n",
       "1  3.85  0.058710      2      0    0.1  \n",
       "2  3.95  0.057143      2      0    0.1  \n",
       "3  4.05  0.055576      2      0    0.1  \n",
       "4  4.15  0.054000      2      0    0.1  \n",
       "\n",
       "[5 rows x 27 columns]"
      ]
     },
     "execution_count": 17,
     "metadata": {},
     "output_type": "execute_result"
    }
   ],
   "source": [
    "# Now, we just make an inner join of the new dataframe with dfsub\n",
    "dfsub2 = pd.merge(dfsub, dfnn, how='inner', on='path')\n",
    "dfsub2.head()"
   ]
  },
  {
   "cell_type": "markdown",
   "metadata": {},
   "source": [
    "#### **Remark**:  Whether the solute is in the tetrahedral or octahedral site can be inferred from Nnn.  For fcc, Nnn=6 if octahedral, Nnn=4 if tetrahedral "
   ]
  },
  {
   "cell_type": "code",
   "execution_count": 18,
   "metadata": {
    "collapsed": true
   },
   "outputs": [],
   "source": [
    "if crystal_type=='fcc':\n",
    "    dict_Nnn = {'oct': 6, 'tet': 4}\n",
    "elif crystal_type=='bcc':\n",
    "    dict_Nnn = {'oct':2, 'tet':1}"
   ]
  },
  {
   "cell_type": "markdown",
   "metadata": {},
   "source": [
    "## Fit Vignet curve and extract parameters\n",
    "\n",
    "This is facilitated by the murnagahn module in crystaltools_local."
   ]
  },
  {
   "cell_type": "code",
   "execution_count": 19,
   "metadata": {
    "collapsed": true
   },
   "outputs": [],
   "source": [
    "def fit_vignet(df, mask, plot=True):\n",
    "    vignet = murn.fitMurnagahn()\n",
    "    volume = df[mask].volume.as_matrix()\n",
    "    energy = df[mask].e_fr_energy.as_matrix()\n",
    "    vignet = murn.fitMurnagahn(volume, energy)\n",
    "    vignet.fit_Vignet()\n",
    "\n",
    "    if plot:\n",
    "        vanaly = np.linspace(volume.min(), volume.max(), 1001)\n",
    "        Eanaly = vignet.get_energy(vanaly)\n",
    "\n",
    "        fig = plt.figure(1)\n",
    "        fig.clf()\n",
    "        ax = fig.add_subplot(111)\n",
    "        ax.plot(volume, energy, 'ok', markerfacecolor=sol.blue, zorder=2)\n",
    "        ax.plot(vanaly, Eanaly, '--', color=sol.red, zorder=1)\n",
    "        ax.set_xlabel('Volume (\\AA$^3$)')\n",
    "        ax.set_ylabel('Energy (eV)')\n",
    "        \n",
    "    return pd.Series([vignet.E0, vignet.V0, vignet.B0, vignet.B0p], \n",
    "                    index=['E0', 'V0', 'B0', 'B0p'])"
   ]
  },
  {
   "cell_type": "code",
   "execution_count": 20,
   "metadata": {
    "collapsed": false
   },
   "outputs": [
    {
     "name": "stdout",
     "output_type": "stream",
     "text": [
      "E0    -169.285059\n",
      "V0     496.882551\n",
      "B0     167.686209\n",
      "B0p      5.602486\n",
      "dtype: float64\n"
     ]
    },
    {
     "data": {
      "image/png": "[encoded data removed]",
      "text/plain": [
       "<matplotlib.figure.Figure at 0x10e0b2c10>"
      ]
     },
     "metadata": {},
     "output_type": "display_data"
    }
   ],
   "source": [
    "# Fit parameters for the octahedral site\n",
    "site_type = 'oct'\n",
    "mask = (dfsub2.Nnn==dict_Nnn[site_type])&(dfsub2.ismear==ismear)&(dfsub2.magmom==magnetic)\n",
    "vignet_oct = fit_vignet(dfsub2, mask, plot=True)\n",
    "plt.title(matrix + '-' + solname + ' (' + site_type + ')')\n",
    "print vignet_oct"
   ]
  },
  {
   "cell_type": "code",
   "execution_count": 21,
   "metadata": {
    "collapsed": false
   },
   "outputs": [
    {
     "name": "stdout",
     "output_type": "stream",
     "text": [
      "E0    -169.236801\n",
      "V0     498.249970\n",
      "B0     166.532039\n",
      "B0p      5.601949\n",
      "dtype: float64\n"
     ]
    },
    {
     "data": {
      "image/png": "[encoded data removed]",
      "text/plain": [
       "<matplotlib.figure.Figure at 0x1100978d0>"
      ]
     },
     "metadata": {},
     "output_type": "display_data"
    }
   ],
   "source": [
    "# Fit parameters for the octahedral site\n",
    "site_type = 'tet'\n",
    "mask = (dfsub2.Nnn==dict_Nnn[site_type])&(dfsub2.ismear==ismear)&(dfsub2.magmom==magnetic)\n",
    "vignet_oct = fit_vignet(dfsub2, mask, plot=True)\n",
    "plt.title(matrix + '-' + solname + ' (' + site_type + ')')\n",
    "print vignet_oct"
   ]
  },
  {
   "cell_type": "markdown",
   "metadata": {},
   "source": [
    "## Calculate Vignet parameters for reference pure matrix\n",
    "Here, we basically do the same for the pure matrix.  We need to make a new aggregating function since dnn and Nnn makes no sense for the pure matrix."
   ]
  },
  {
   "cell_type": "code",
   "execution_count": 22,
   "metadata": {
    "collapsed": true
   },
   "outputs": [],
   "source": [
    "def fxn_aggregator_pure(file_path):\n",
    "    with vp.VasprunHDFParser(directory='', filename=file_path) as vasprun:\n",
    "        pos = vasprun.get_positions(state='initial')\n",
    "        cellvec = vasprun.get_cell_vectors()\n",
    "        element = vasprun.get_atoms()['atomtype']\n",
    "        positions = vasprun.get_positions(state='final', coords='relative')\n",
    "        rrel = np.array(positions[['rx', 'ry', 'rz']])\n",
    "\n",
    "        # construct crystal\n",
    "        crys = cg.Crystal()\n",
    "        crys.cellvec = cellvec\n",
    "        crys.itype = np.array(element).astype('int')\n",
    "        crys.rrel = rrel\n",
    "\n",
    "        # calculate lattice parameter\n",
    "        nsc = (len(crys.xcar[crys.itype==1])/4)**(1./3.)\n",
    "        a0 = np.linalg.norm(cellvec[:,0]) / nsc\n",
    "\n",
    "        # get ISMEAR and SIGMA parameters\n",
    "        incar = vasprun.get_incar()\n",
    "        incar = vasprun.get_incar()\n",
    "        if 'ISMEAR' in incar.keys():\n",
    "            ismear = incar.ISMEAR\n",
    "        else:\n",
    "            ismear = np.nan\n",
    "            \n",
    "        if 'SIGMA' in incar.keys():\n",
    "            sigma = incar.SIGMA\n",
    "        else:\n",
    "            sigma = np.nan\n",
    "\n",
    "        if 'MAGMOM' in incar.keys():\n",
    "            magmom = True\n",
    "        else:\n",
    "            magmom = False\n",
    "            \n",
    "            \n",
    "        # construct pandas series\n",
    "        return pd.Series([file_path, a0, ismear, sigma, magmom], \n",
    "                         index=['path', 'a0', 'ismear', 'sigma', 'magmom'])"
   ]
  },
  {
   "cell_type": "code",
   "execution_count": 23,
   "metadata": {
    "collapsed": true
   },
   "outputs": [],
   "source": [
    "# (df_all.e_fr_energy<0) necessary because of some anomalous calculations\n",
    "dfpure = df_all[(df_all.el1==matrix)&(df_all.el2=='None')&(df_all.n1==n1)&\n",
    "                (df_all.n2==0)&(df_all.kx==kx)&(df_all.isif==isif)&\n",
    "                (df_all.e_fr_energy<0)].copy()\n",
    "dfpure.reset_index(inplace=True)\n",
    "dfpure['crystal_type'] = crystal_type"
   ]
  },
  {
   "cell_type": "code",
   "execution_count": 24,
   "metadata": {
    "collapsed": false
   },
   "outputs": [
    {
     "name": "stdout",
     "output_type": "stream",
     "text": [
      "[====================] 100%.  - Processing /Volumes/Elements/python/aydin/vasprun_dump/h5files/vasprun_00640.h5"
     ]
    }
   ],
   "source": [
    "path_list = list(dfpure.path)\n",
    "df_extra, bad_path = ft.get_aggregate_data(fxn_aggregator_pure, path_list, verbose=True)"
   ]
  },
  {
   "cell_type": "code",
   "execution_count": 25,
   "metadata": {
    "collapsed": false
   },
   "outputs": [
    {
     "data": {
      "text/html": [
       "<div>\n",
       "<table border=\"1\" class=\"dataframe\">\n",
       "  <thead>\n",
       "    <tr style=\"text-align: right;\">\n",
       "      <th></th>\n",
       "      <th>index</th>\n",
       "      <th>conv</th>\n",
       "      <th>cubic</th>\n",
       "      <th>e_0_energy</th>\n",
       "      <th>e_fr_energy</th>\n",
       "      <th>e_wo_entrp</th>\n",
       "      <th>el1</th>\n",
       "      <th>el2</th>\n",
       "      <th>encut</th>\n",
       "      <th>isif</th>\n",
       "      <th>...</th>\n",
       "      <th>path</th>\n",
       "      <th>v1</th>\n",
       "      <th>v2</th>\n",
       "      <th>v3</th>\n",
       "      <th>volume</th>\n",
       "      <th>crystal_type</th>\n",
       "      <th>a0</th>\n",
       "      <th>ismear</th>\n",
       "      <th>magmom</th>\n",
       "      <th>sigma</th>\n",
       "    </tr>\n",
       "  </thead>\n",
       "  <tbody>\n",
       "    <tr>\n",
       "      <th>0</th>\n",
       "      <td>12035</td>\n",
       "      <td>1</td>\n",
       "      <td>1</td>\n",
       "      <td>-0.010956</td>\n",
       "      <td>-165.781882</td>\n",
       "      <td>-165.779143</td>\n",
       "      <td>Pd</td>\n",
       "      <td>None</td>\n",
       "      <td>400</td>\n",
       "      <td>0</td>\n",
       "      <td>...</td>\n",
       "      <td>/Volumes/Elements/python/aydin/vasprun_dump/h5...</td>\n",
       "      <td>[7.90706, 0.0, 0.0]</td>\n",
       "      <td>[0.0, 7.90706, 0.0]</td>\n",
       "      <td>[0.0, 0.0, 7.90706]</td>\n",
       "      <td>494.362025</td>\n",
       "      <td>fcc</td>\n",
       "      <td>3.95353</td>\n",
       "      <td>2</td>\n",
       "      <td>0</td>\n",
       "      <td>0.1</td>\n",
       "    </tr>\n",
       "    <tr>\n",
       "      <th>1</th>\n",
       "      <td>12036</td>\n",
       "      <td>1</td>\n",
       "      <td>1</td>\n",
       "      <td>0.000000</td>\n",
       "      <td>-165.878573</td>\n",
       "      <td>-165.878573</td>\n",
       "      <td>Pd</td>\n",
       "      <td>None</td>\n",
       "      <td>400</td>\n",
       "      <td>0</td>\n",
       "      <td>...</td>\n",
       "      <td>/Volumes/Elements/python/aydin/vasprun_dump/h5...</td>\n",
       "      <td>[7.90706, 0.0, 0.0]</td>\n",
       "      <td>[0.0, 7.90706, 0.0]</td>\n",
       "      <td>[0.0, 0.0, 7.90706]</td>\n",
       "      <td>494.362025</td>\n",
       "      <td>fcc</td>\n",
       "      <td>3.95353</td>\n",
       "      <td>-5</td>\n",
       "      <td>0</td>\n",
       "      <td>0.1</td>\n",
       "    </tr>\n",
       "    <tr>\n",
       "      <th>2</th>\n",
       "      <td>15</td>\n",
       "      <td>1</td>\n",
       "      <td>1</td>\n",
       "      <td>-0.018246</td>\n",
       "      <td>-157.926972</td>\n",
       "      <td>-157.922410</td>\n",
       "      <td>Pd</td>\n",
       "      <td>None</td>\n",
       "      <td>400</td>\n",
       "      <td>0</td>\n",
       "      <td>...</td>\n",
       "      <td>/Volumes/Elements/python/aydin/vasprun_dump/h5...</td>\n",
       "      <td>[7.5, 0.0, 0.0]</td>\n",
       "      <td>[0.0, 7.5, 0.0]</td>\n",
       "      <td>[0.0, 0.0, 7.5]</td>\n",
       "      <td>421.875000</td>\n",
       "      <td>fcc</td>\n",
       "      <td>3.75000</td>\n",
       "      <td>2</td>\n",
       "      <td>0</td>\n",
       "      <td>0.1</td>\n",
       "    </tr>\n",
       "    <tr>\n",
       "      <th>3</th>\n",
       "      <td>16</td>\n",
       "      <td>1</td>\n",
       "      <td>1</td>\n",
       "      <td>-0.017510</td>\n",
       "      <td>-163.982023</td>\n",
       "      <td>-163.977645</td>\n",
       "      <td>Pd</td>\n",
       "      <td>None</td>\n",
       "      <td>400</td>\n",
       "      <td>0</td>\n",
       "      <td>...</td>\n",
       "      <td>/Volumes/Elements/python/aydin/vasprun_dump/h5...</td>\n",
       "      <td>[7.7, 0.0, 0.0]</td>\n",
       "      <td>[0.0, 7.7, 0.0]</td>\n",
       "      <td>[0.0, 0.0, 7.7]</td>\n",
       "      <td>456.533000</td>\n",
       "      <td>fcc</td>\n",
       "      <td>3.85000</td>\n",
       "      <td>2</td>\n",
       "      <td>0</td>\n",
       "      <td>0.1</td>\n",
       "    </tr>\n",
       "    <tr>\n",
       "      <th>4</th>\n",
       "      <td>17</td>\n",
       "      <td>1</td>\n",
       "      <td>1</td>\n",
       "      <td>-0.011217</td>\n",
       "      <td>-165.780369</td>\n",
       "      <td>-165.777565</td>\n",
       "      <td>Pd</td>\n",
       "      <td>None</td>\n",
       "      <td>400</td>\n",
       "      <td>0</td>\n",
       "      <td>...</td>\n",
       "      <td>/Volumes/Elements/python/aydin/vasprun_dump/h5...</td>\n",
       "      <td>[7.9, 0.0, 0.0]</td>\n",
       "      <td>[0.0, 7.9, 0.0]</td>\n",
       "      <td>[0.0, 0.0, 7.9]</td>\n",
       "      <td>493.039000</td>\n",
       "      <td>fcc</td>\n",
       "      <td>3.95000</td>\n",
       "      <td>2</td>\n",
       "      <td>0</td>\n",
       "      <td>0.1</td>\n",
       "    </tr>\n",
       "  </tbody>\n",
       "</table>\n",
       "<p>5 rows × 25 columns</p>\n",
       "</div>"
      ],
      "text/plain": [
       "   index  conv  cubic  e_0_energy  e_fr_energy  e_wo_entrp el1   el2  encut  \\\n",
       "0  12035     1      1   -0.010956  -165.781882 -165.779143  Pd  None    400   \n",
       "1  12036     1      1    0.000000  -165.878573 -165.878573  Pd  None    400   \n",
       "2     15     1      1   -0.018246  -157.926972 -157.922410  Pd  None    400   \n",
       "3     16     1      1   -0.017510  -163.982023 -163.977645  Pd  None    400   \n",
       "4     17     1      1   -0.011217  -165.780369 -165.777565  Pd  None    400   \n",
       "\n",
       "   isif  ...                                                 path  \\\n",
       "0     0  ...    /Volumes/Elements/python/aydin/vasprun_dump/h5...   \n",
       "1     0  ...    /Volumes/Elements/python/aydin/vasprun_dump/h5...   \n",
       "2     0  ...    /Volumes/Elements/python/aydin/vasprun_dump/h5...   \n",
       "3     0  ...    /Volumes/Elements/python/aydin/vasprun_dump/h5...   \n",
       "4     0  ...    /Volumes/Elements/python/aydin/vasprun_dump/h5...   \n",
       "\n",
       "                    v1                   v2                   v3      volume  \\\n",
       "0  [7.90706, 0.0, 0.0]  [0.0, 7.90706, 0.0]  [0.0, 0.0, 7.90706]  494.362025   \n",
       "1  [7.90706, 0.0, 0.0]  [0.0, 7.90706, 0.0]  [0.0, 0.0, 7.90706]  494.362025   \n",
       "2      [7.5, 0.0, 0.0]      [0.0, 7.5, 0.0]      [0.0, 0.0, 7.5]  421.875000   \n",
       "3      [7.7, 0.0, 0.0]      [0.0, 7.7, 0.0]      [0.0, 0.0, 7.7]  456.533000   \n",
       "4      [7.9, 0.0, 0.0]      [0.0, 7.9, 0.0]      [0.0, 0.0, 7.9]  493.039000   \n",
       "\n",
       "  crystal_type       a0 ismear magmom  sigma  \n",
       "0          fcc  3.95353      2      0    0.1  \n",
       "1          fcc  3.95353     -5      0    0.1  \n",
       "2          fcc  3.75000      2      0    0.1  \n",
       "3          fcc  3.85000      2      0    0.1  \n",
       "4          fcc  3.95000      2      0    0.1  \n",
       "\n",
       "[5 rows x 25 columns]"
      ]
     },
     "execution_count": 25,
     "metadata": {},
     "output_type": "execute_result"
    }
   ],
   "source": [
    "dfpure = pd.merge(dfpure, df_extra, how='inner', on='path')\n",
    "dfpure.head()"
   ]
  },
  {
   "cell_type": "code",
   "execution_count": 26,
   "metadata": {
    "collapsed": false
   },
   "outputs": [
    {
     "name": "stdout",
     "output_type": "stream",
     "text": [
      "E0    -165.781494\n",
      "V0     494.234698\n",
      "B0     168.142651\n",
      "B0p      5.614821\n",
      "dtype: float64\n"
     ]
    },
    {
     "data": {
      "image/png": "[encoded data removed]",
      "text/plain": [
       "<matplotlib.figure.Figure at 0x10f65e410>"
      ]
     },
     "metadata": {},
     "output_type": "display_data"
    }
   ],
   "source": [
    "mask = (dfpure.ismear==2)&(dfpure.magmom==magnetic)\n",
    "dfpure[mask]\n",
    "vignet_pure = fit_vignet(dfpure, mask, plot=True)\n",
    "plt.title(matrix + ' (Pure)')\n",
    "print vignet_pure"
   ]
  },
  {
   "cell_type": "code",
   "execution_count": null,
   "metadata": {
    "collapsed": true
   },
   "outputs": [],
   "source": []
  },
  {
   "cell_type": "code",
   "execution_count": null,
   "metadata": {
    "collapsed": true
   },
   "outputs": [],
   "source": []
  }
 ],
 "metadata": {
  "kernelspec": {
   "display_name": "Python 2",
   "language": "python",
   "name": "python2"
  },
  "language_info": {
   "codemirror_mode": {
    "name": "ipython",
    "version": 2
   },
   "file_extension": ".py",
   "mimetype": "text/x-python",
   "name": "python",
   "nbconvert_exporter": "python",
   "pygments_lexer": "ipython2",
   "version": "2.7.11"
  }
 },
 "nbformat": 4,
 "nbformat_minor": 0
}
