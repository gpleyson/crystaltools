{
 "cells": [
  {
   "cell_type": "markdown",
   "metadata": {},
   "source": [
    "## Create VASP input decks of Pd-H system for H-H interaction analysis\n",
    "### Script for $\\text{Pd}_{64}\\text{H}_1 \\rightarrow$ Palladium with one hydrogen"
   ]
  },
  {
   "cell_type": "code",
   "execution_count": 1,
   "metadata": {
    "collapsed": false
   },
   "outputs": [],
   "source": [
    "import numpy as np\n",
    "import os\n",
    "import crystaltools.crystal_generator as cg\n",
    "import crystaltools.vasp_job as vj\n",
    "import matplotlib.pyplot as plt\n",
    "import copy\n",
    "from shutil import copyfile\n",
    "\n",
    "%matplotlib inline"
   ]
  },
  {
   "cell_type": "code",
   "execution_count": 2,
   "metadata": {
    "collapsed": false
   },
   "outputs": [],
   "source": [
    "root_dir = './Pd_H_calculations/kpt888/Pd64H1'\n",
    "path_to_POTCAR = '/Users/dagatkarimlan/python/vaspScripts/potcars/POTCAR.paw-gga-pbe-v5.2.PdH'\n",
    "path_to_INCAR = '/Users/dagatkarimlan/python/vaspScripts/inputFiles/INCAR_PdH'\n",
    "path_to_KPOINTS = '/Users/dagatkarimlan/python/vaspScripts/inputFiles/KPOINTS_8x8x8'\n",
    "path_to_support_dir = '/Users/dagatkarimlan/python/vaspScripts/supportFiles'\n",
    "support_file_list = ['run.vasp5.par.cluster.cmmc_40cores', \n",
    "                     'submit_vaspjob', 'script.parallel.sh']\n",
    "\n",
    "path_to_support_global = '/Users/dagatkarimlan/python/vaspScripts/supportFilesGlobal'\n",
    "global_file_list = ['launch_jobs_rgz.py']"
   ]
  },
  {
   "cell_type": "code",
   "execution_count": 7,
   "metadata": {
    "collapsed": true
   },
   "outputs": [],
   "source": [
    "# data from Aydin's data on Pd32H1 with H on the octahedral site\n",
    "nhost = 32\n",
    "nH = 1\n",
    "E0 = -169.285059\n",
    "V0 = 496.882551\n",
    "B0 = 167.686209\n",
    "B0p = 5.602486\n",
    "DeltaE = -3.503565\n",
    "DeltaV = 2.647853\n",
    "DeltaB = -0.456442\n",
    "DeltaBp = -0.012335"
   ]
  },
  {
   "cell_type": "code",
   "execution_count": 8,
   "metadata": {
    "collapsed": false
   },
   "outputs": [
    {
     "name": "stdout",
     "output_type": "stream",
     "text": [
      "Atomic volume host atom: 15.4448343125 A^3\n",
      "Misfit volume of H in host: 2.647853 A^3\n",
      "3.95319054829\n"
     ]
    }
   ],
   "source": [
    "# atomic volume and misfit volume\n",
    "vhost = (V0-DeltaV)/nhost\n",
    "dvH = DeltaV\n",
    "\n",
    "var = (vhost*4.)**(1./3.)\n",
    "\n",
    "print('Atomic volume host atom: {} A^3'.format(vhost))\n",
    "print('Misfit volume of H in host: {} A^3'.format(dvH))\n",
    "print(var)"
   ]
  },
  {
   "cell_type": "code",
   "execution_count": 9,
   "metadata": {
    "collapsed": false
   },
   "outputs": [
    {
     "name": "stdout",
     "output_type": "stream",
     "text": [
      "lattice paramter: 3.95407281568 A\n"
     ]
    }
   ],
   "source": [
    "# Define parameters of the supercell\n",
    "nsc = [4, 4, 4]\n",
    "nH = 1\n",
    "a0 = (4.*vhost+(1./nsc[0]**3.)*nH*dvH)**(1./3.)\n",
    "\n",
    "print('lattice paramter: {} A'.format(a0))"
   ]
  },
  {
   "cell_type": "code",
   "execution_count": 3,
   "metadata": {
    "collapsed": false
   },
   "outputs": [],
   "source": [
    "def create_cell_with_2H(a0, nsc=[4, 4, 4], ii=0):\n",
    "    \"\"\"\n",
    "        Creates an fcc supercell based on the primitive cell with \n",
    "        2 hydrogen atoms with specific separation distance.\n",
    "        \n",
    "        :params:\n",
    "            a0:(float): \n",
    "                Lattice parameter of the supercell.\n",
    "            nsc:(list):(default=[4, 4, 4])\n",
    "                List defining the size of the supercell.\n",
    "            ii:(integer):(default=1)\n",
    "                (ii+1)^th nearest neighbor distances, \n",
    "                i.e., ii=0 corresponds to the 1st NN,\n",
    "                ii=4 corresponds to the 5th NN.\n",
    "                \n",
    "        :return:\n",
    "            crystal:(cg.Crystal):\n",
    "                The desired crystal crystal structure.\n",
    "            dH-H:(float):\n",
    "                The hydrogen-hydrogen separation in the simulation\n",
    "                cell.\n",
    "            \n",
    "    \"\"\"\n",
    "    \n",
    "    # create supercell (rocksalt = fcc with full occupancy of octahedral sites)\n",
    "    unit = cg.get_unit_cell('rocksalt primitive', a0)\n",
    "    crystal = unit.create_supercell(nsc[0], nsc[1], nsc[2])\n",
    "    \n",
    "    # get index of hydrogen atoms\n",
    "    idH = np.nonzero(crystal.itype==2)[0]\n",
    "    \n",
    "    # center cell on the first H atom\n",
    "    rtrans = crystal.rcar[idH[0]]\n",
    "    crystal.translate_cartesian(rtrans)\n",
    "    crystal.center_atoms()\n",
    "\n",
    "    # calculate neighbor distances\n",
    "    rcar_H = crystal.rcar[idH]\n",
    "    dist_neigh = np.linalg.norm(rcar_H, axis=1)\n",
    "    dist_neigh = np.round(dist_neigh/a0, 5) * a0\n",
    "    dist_unique = np.unique(dist_neigh)[1:]\n",
    "    print(dist_unique/a0)\n",
    "    \n",
    "    if ii > len(dist_unique)-1:\n",
    "        print('Index out of range.  Max index = {}'.format(len(dist_unique)))\n",
    "        return\n",
    "\n",
    "    # set min and max bounds for neighbor search\n",
    "    if ii == 0:\n",
    "        dmin = 0.\n",
    "    else:\n",
    "        dmin = (dist_unique[ii] + dist_unique[ii-1])/2.\n",
    "\n",
    "    if ii == len(dist_unique)-1:\n",
    "        dmax = a0 * nsc[0] # some large number\n",
    "    else:\n",
    "        dmax = (dist_unique[ii] + dist_unique[ii+1])/2.\n",
    "\n",
    "    # get indices of sites with the right distance\n",
    "    id_nspecific = np.nonzero((dist_neigh>dmin) & (dist_neigh<dmax))[0]\n",
    "\n",
    "    # Keep the 2 relevant H, delete all other octahedral sites\n",
    "    crystal.itype[idH] = 3\n",
    "    crystal.itype[idH[0]] = 2\n",
    "    crystal.itype[idH[id_nspecific[0]]] = 2\n",
    "    iddel = np.nonzero(crystal.itype == 3)[0]\n",
    "    crystal.delete_atom(iddel)\n",
    "    \n",
    "    # shift atoms back to original positions\n",
    "    crystal.translate_cartesian(-rtrans)\n",
    "    crystal.reflect_atoms()\n",
    "    \n",
    "    return crystal, dist_unique[ii]"
   ]
  },
  {
   "cell_type": "code",
   "execution_count": 4,
   "metadata": {
    "collapsed": true
   },
   "outputs": [],
   "source": [
    "def create_cell_with_1H(a0, nsc=[4, 4, 4]):\n",
    "    \"\"\"\n",
    "        Creates an fcc supercell based on the primitive cell with \n",
    "        1 hydrogen atom.\n",
    "        \n",
    "        :params:\n",
    "            a0:(float): \n",
    "                Lattice parameter of the supercell.\n",
    "            nsc:(list):(default=[4, 4, 4])\n",
    "                List defining the size of the supercell.\n",
    "                \n",
    "        :return:\n",
    "            crystal:(cg.Crystal):\n",
    "                The desired crystal crystal structure.\n",
    "    \"\"\"\n",
    "    # create supercell (rocksalt = fcc with full occupancy of octahedral sites)\n",
    "    unit = cg.get_unit_cell('rocksalt primitive', a0)\n",
    "    crystal = unit.create_supercell(nsc[0], nsc[1], nsc[2])\n",
    "    \n",
    "    # get index of hydrogen atoms\n",
    "    idH = np.nonzero(crystal.itype==2)[0]\n",
    "    \n",
    "    # Keep the 2 relevant H, delete all other octahedral sites\n",
    "    crystal.itype[idH] = 3\n",
    "    crystal.itype[idH[0]] = 2\n",
    "    iddel = np.nonzero(crystal.itype == 3)[0]\n",
    "    crystal.delete_atom(iddel)\n",
    "    \n",
    "    return crystal"
   ]
  },
  {
   "cell_type": "code",
   "execution_count": 5,
   "metadata": {
    "collapsed": true
   },
   "outputs": [],
   "source": [
    "def create_bulk_cell(a0, nsc=[4, 4, 4]):\n",
    "    \"\"\"\n",
    "        Creates an fcc supercell based on the primitive cell with \n",
    "        no hydrogen atoms.\n",
    "        \n",
    "        :params:\n",
    "            a0:(float): \n",
    "                Lattice parameter of the supercell.\n",
    "            nsc:(list):(default=[4, 4, 4])\n",
    "                List defining the size of the supercell.\n",
    "                \n",
    "        :return:\n",
    "            crystal:(cg.Crystal):\n",
    "                The desired crystal crystal structure.\n",
    "    \"\"\"\n",
    "    # create supercell (rocksalt = fcc with full occupancy of octahedral sites)\n",
    "    unit = cg.get_unit_cell('fcc primitive', a0)\n",
    "    crystal = unit.create_supercell(nsc[0], nsc[1], nsc[2])\n",
    "    \n",
    "    return crystal"
   ]
  },
  {
   "cell_type": "code",
   "execution_count": 6,
   "metadata": {
    "collapsed": true
   },
   "outputs": [],
   "source": [
    "def create_rocksalt_cell(a0, nsc=[4, 4, 4]):\n",
    "    \"\"\"\n",
    "        Creates an rocksalt supercell based on the primitive cell (i.e. fcc\n",
    "        supercell with full occupancy of the octahedral sites).\n",
    "        \n",
    "        :params:\n",
    "            a0:(float): \n",
    "                Lattice parameter of the supercell.\n",
    "            nsc:(list):(default=[4, 4, 4])\n",
    "                List defining the size of the supercell.\n",
    "                \n",
    "        :return:\n",
    "            crystal:(cg.Crystal):\n",
    "                The desired crystal crystal structure.\n",
    "    \"\"\"\n",
    "    # create supercell (rocksalt = fcc with full occupancy of octahedral sites)\n",
    "    unit = cg.get_unit_cell('rocksalt primitive', a0)\n",
    "    crystal = unit.create_supercell(nsc[0], nsc[1], nsc[2])\n",
    "    \n",
    "    return crystal"
   ]
  },
  {
   "cell_type": "code",
   "execution_count": 10,
   "metadata": {
    "collapsed": false
   },
   "outputs": [
    {
     "name": "stdout",
     "output_type": "stream",
     "text": [
      "65\n"
     ]
    }
   ],
   "source": [
    "crystal = create_cell_with_1H(a0, nsc=[4, 4, 4])\n",
    "print(crystal.natoms)"
   ]
  },
  {
   "cell_type": "code",
   "execution_count": 11,
   "metadata": {
    "collapsed": false
   },
   "outputs": [],
   "source": [
    "# strain array\n",
    "strain_array = np.linspace(-1.e-2, 1.e-2, 5)\n",
    "\n",
    "for strain in strain_array:\n",
    "    a0_def = (1. + strain)*a0\n",
    "    crystal.scale = a0_def\n",
    "\n",
    "    # construct subdirectory name\n",
    "    a0_string = 'a0_{:6.5f}'.format(a0_def)\n",
    "    subdir_name = a0_string\n",
    "    jobname = 'a0 = {:6.5f}'.format(a0_def)\n",
    "\n",
    "    vaspjob = vj.VASP_job(crystal=crystal, \n",
    "                          root_dir=root_dir, \n",
    "                          subdir_name= subdir_name, \n",
    "                          jobname=jobname,\n",
    "                          path_to_INCAR=path_to_INCAR,\n",
    "                          path_to_KPOINTS=path_to_KPOINTS, \n",
    "                          path_to_POTCAR=path_to_POTCAR,\n",
    "                          path_to_support_dir=path_to_support_dir,\n",
    "                          support_file_list=support_file_list)\n",
    "    vaspjob.generate_input_deck()\n",
    "\n",
    "for filename in global_file_list:\n",
    "    path_source = os.path.join(path_to_support_global, filename)\n",
    "    path_des = os.path.join(root_dir, filename)\n",
    "    copyfile(path_source, path_des)\n",
    "    os.chmod(path_des, 0777)"
   ]
  },
  {
   "cell_type": "markdown",
   "metadata": {
    "collapsed": true
   },
   "source": []
  },
  {
   "cell_type": "code",
   "execution_count": null,
   "metadata": {
    "collapsed": true
   },
   "outputs": [],
   "source": []
  }
 ],
 "metadata": {
  "kernelspec": {
   "display_name": "Python 2",
   "language": "python",
   "name": "python2"
  },
  "language_info": {
   "codemirror_mode": {
    "name": "ipython",
    "version": 2
   },
   "file_extension": ".py",
   "mimetype": "text/x-python",
   "name": "python",
   "nbconvert_exporter": "python",
   "pygments_lexer": "ipython2",
   "version": "2.7.11"
  }
 },
 "nbformat": 4,
 "nbformat_minor": 0
}
